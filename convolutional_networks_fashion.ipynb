{
  "cells": [
    {
      "cell_type": "code",
      "execution_count": 2,
      "metadata": {
        "id": "GGIJlX8oRC_F",
        "outputId": "07732dde-17b9-45da-dee4-c0ae469088ed",
        "colab": {
          "base_uri": "https://localhost:8080/"
        }
      },
      "outputs": [
        {
          "output_type": "stream",
          "name": "stdout",
          "text": [
            "Downloading data from https://storage.googleapis.com/tensorflow/tf-keras-datasets/train-labels-idx1-ubyte.gz\n",
            "29515/29515 [==============================] - 0s 0us/step\n",
            "Downloading data from https://storage.googleapis.com/tensorflow/tf-keras-datasets/train-images-idx3-ubyte.gz\n",
            "26421880/26421880 [==============================] - 0s 0us/step\n",
            "Downloading data from https://storage.googleapis.com/tensorflow/tf-keras-datasets/t10k-labels-idx1-ubyte.gz\n",
            "5148/5148 [==============================] - 0s 0us/step\n",
            "Downloading data from https://storage.googleapis.com/tensorflow/tf-keras-datasets/t10k-images-idx3-ubyte.gz\n",
            "4422102/4422102 [==============================] - 0s 0us/step\n"
          ]
        }
      ],
      "source": [
        "from keras.datasets import fashion_mnist\n",
        "from tensorflow.keras import Sequential\n",
        "from tensorflow.keras.layers import Dense, Conv2D, Flatten, MaxPooling2D, BatchNormalization, Dropout\n",
        "(train_images, train_labels), (test_images, test_labels) = fashion_mnist.load_data()\n",
        "\n",
        "class_names= ['T-shirt/top', 'Trouser', 'Pullover', 'Dress', 'Coat', 'Sandal', 'Shirt', 'Sneaker', 'Bag', 'Ankle boot']\n"
      ]
    },
    {
      "cell_type": "markdown",
      "metadata": {
        "id": "z4cHyceeRC_H"
      },
      "source": [
        "# Data Formatting"
      ]
    },
    {
      "cell_type": "code",
      "execution_count": 3,
      "metadata": {
        "id": "S29wvhbhRC_H"
      },
      "outputs": [],
      "source": [
        "def format_images(images):\n",
        "    dataset_size= len(images)\n",
        "    formatted_images=images.reshape((dataset_size, 28,28,1))\n",
        "    formatted_images=images.astype('float')/255\n",
        "    return formatted_images\n",
        "\n",
        "\n",
        "train_images= format_images(train_images)\n",
        "test_images= format_images(test_images)"
      ]
    },
    {
      "cell_type": "markdown",
      "metadata": {
        "id": "EB3Bw8IpRC_I"
      },
      "source": [
        "# Model"
      ]
    },
    {
      "cell_type": "code",
      "execution_count": 4,
      "metadata": {
        "id": "HM-0cg5ARC_I",
        "outputId": "4176ec0f-9f4b-4748-f416-6a1136ec3376",
        "colab": {
          "base_uri": "https://localhost:8080/"
        }
      },
      "outputs": [
        {
          "output_type": "stream",
          "name": "stdout",
          "text": [
            "Epoch 1/5\n",
            "1875/1875 [==============================] - 16s 3ms/step - loss: 0.8217 - accuracy: 0.7081\n",
            "Epoch 2/5\n",
            "1875/1875 [==============================] - 6s 3ms/step - loss: 0.5129 - accuracy: 0.8152\n",
            "Epoch 3/5\n",
            "1875/1875 [==============================] - 7s 4ms/step - loss: 0.4462 - accuracy: 0.8419\n",
            "Epoch 4/5\n",
            "1875/1875 [==============================] - 6s 3ms/step - loss: 0.4096 - accuracy: 0.8548\n",
            "Epoch 5/5\n",
            "1875/1875 [==============================] - 6s 3ms/step - loss: 0.3855 - accuracy: 0.8630\n",
            "313/313 [==============================] - 1s 3ms/step - loss: 0.3960 - accuracy: 0.8618\n",
            "Test accuracy: 0.8618000149726868\n"
          ]
        }
      ],
      "source": [
        "\n",
        "model = Sequential()\n",
        "model.add(Conv2D(32, (5,5), activation='relu', input_shape=(28,28,1)))\n",
        "model.add(MaxPooling2D((2,2)))\n",
        "model.add(Conv2D(64, (5,5), activation='relu'))\n",
        "model.add(MaxPooling2D((2,2)))\n",
        "model.add(Flatten())\n",
        "model.add(Dense(10, activation='softmax'))\n",
        "\n",
        "model.compile(optimizer='sgd', loss='sparse_categorical_crossentropy', metrics=['accuracy'])\n",
        "model.fit(train_images, train_labels, epochs=5)    \n",
        "test_loss, test_acc= model.evaluate(test_images, test_labels)\n",
        "print('Test accuracy:', test_acc)"
      ]
    },
    {
      "cell_type": "markdown",
      "metadata": {
        "id": "HZtYR4jERC_I"
      },
      "source": [
        "# Model Variation"
      ]
    },
    {
      "cell_type": "code",
      "execution_count": null,
      "metadata": {
        "id": "TUrX-UUORC_J",
        "outputId": "654b5279-bfe7-492d-fb2c-810308a7c730"
      },
      "outputs": [
        {
          "name": "stdout",
          "output_type": "stream",
          "text": [
            "Epoch 1/5\n",
            "1875/1875 [==============================] - 25s 13ms/step - loss: 0.5106 - accuracy: 0.8181\n",
            "Epoch 2/5\n",
            "1875/1875 [==============================] - 22s 12ms/step - loss: 0.3411 - accuracy: 0.8785\n",
            "Epoch 3/5\n",
            "1875/1875 [==============================] - 21s 11ms/step - loss: 0.2919 - accuracy: 0.8947\n",
            "Epoch 4/5\n",
            "1875/1875 [==============================] - 22s 12ms/step - loss: 0.2584 - accuracy: 0.9069\n",
            "Epoch 5/5\n",
            "1875/1875 [==============================] - 22s 11ms/step - loss: 0.2310 - accuracy: 0.9169\n",
            "313/313 [==============================] - 1s 3ms/step - loss: 0.3163 - accuracy: 0.8861\n",
            "Test accuracy: 0.8860999941825867\n"
          ]
        }
      ],
      "source": [
        "\n",
        "model = Sequential()\n",
        "# the padding we add here is to have the same optut size as input\n",
        "model.add(Conv2D(32, (7,7), activation='relu', padding=\"same\", input_shape=(28,28,1)))\n",
        "model.add(MaxPooling2D((2,2)))\n",
        "model.add(Conv2D(128, (3,3), activation='relu', padding=\"same\"))\n",
        "model.add(MaxPooling2D((2,2)))\n",
        "model.add(Flatten())\n",
        "model.add(Dense(10, activation='relu'))\n",
        "model.add(Dense(10, activation='softmax'))\n",
        "\n",
        "model.compile(optimizer='adam', loss='sparse_categorical_crossentropy', metrics=['accuracy'])\n",
        "model.fit(train_images, train_labels, epochs=5)    \n",
        "test_loss, test_acc= model.evaluate(test_images, test_labels)\n",
        "print('Test accuracy:', test_acc)"
      ]
    },
    {
      "cell_type": "markdown",
      "metadata": {
        "id": "ywfrXWKLRC_J"
      },
      "source": [
        "# Model Variation II (Dropout and BatchNormalization)"
      ]
    },
    {
      "cell_type": "code",
      "execution_count": 5,
      "metadata": {
        "id": "Z9lqnAB2RC_J"
      },
      "outputs": [],
      "source": [
        "\n",
        "def make_model():\n",
        "    model = Sequential()\n",
        "    model.add(Conv2D(filters=32, kernel_size=(3,3),\n",
        "              activation= 'relu', strides=1, padding='same', input_shape=(28,28,1)))\n",
        "    model.add(BatchNormalization())\n",
        "    model.add(Conv2D(filters=32, kernel_size=(3,3),\n",
        "              activation= 'relu', strides=1, padding='same'))\n",
        "    model.add(BatchNormalization())\n",
        "    model.add(Dropout(0.25))\n",
        "\n",
        "    model.add(Conv2D(filters=64, kernel_size=(3,3),\n",
        "              activation= 'relu', strides=1, padding='same'))\n",
        "    model.add(MaxPooling2D(pool_size=(2, 2)))\n",
        "    model.add(Dropout(0.25))\n",
        "    \n",
        "    model.add(Conv2D(filters=128, kernel_size=(3,3),\n",
        "                     activation= 'relu', strides=1, padding='same'))\n",
        "    model.add(BatchNormalization())\n",
        "    model.add(Dropout(0.25))\n",
        "    model.add(Flatten())\n",
        "    model.add(Dense(512, activation='relu'))\n",
        "    model.add(BatchNormalization())\n",
        "    model.add(Dropout(0.5))\n",
        "    model.add(Dense(128, activation='relu'))\n",
        "    model.add(BatchNormalization())\n",
        "    model.add(Dropout(0.5))\n",
        "    model.add(Dense(10, activation='softmax'))\n",
        "\n",
        "    return model"
      ]
    },
    {
      "cell_type": "code",
      "source": [
        "model= make_model()\n",
        "optimizer ='adam'\n",
        "callbacks= None"
      ],
      "metadata": {
        "id": "426y9oDJTFTc"
      },
      "execution_count": 9,
      "outputs": []
    },
    {
      "cell_type": "code",
      "execution_count": 12,
      "metadata": {
        "id": "Q8BVXK-2RC_K"
      },
      "outputs": [],
      "source": [
        "from tensorflow.keras.optimizers import Adam\n",
        "from tensorflow.keras.callbacks import LearningRateScheduler\n",
        "optimizer= Adam(learning_rate=0.001)\n",
        "reduce_learning_rate = LearningRateScheduler(lambda x: 1e-3 * 0.9 ** x)\n",
        "callbacks=[reduce_learning_rate]\n"
      ]
    },
    {
      "cell_type": "code",
      "source": [
        "model.compile(optimizer=optimizer, loss='sparse_categorical_crossentropy', metrics=['accuracy'])\n",
        "model.fit(train_images, train_labels, epochs=30, callbacks=callbacks)\n",
        "test_loss, test_acc=model.evaluate(test_images, test_labels)\n",
        "\n",
        "print('Test accuracy:', test_acc)"
      ],
      "metadata": {
        "id": "XGr6kc-kSGbK",
        "outputId": "0aee6a8c-9fe5-4c8c-eeb6-3604884b47b9",
        "colab": {
          "base_uri": "https://localhost:8080/"
        }
      },
      "execution_count": 13,
      "outputs": [
        {
          "output_type": "stream",
          "name": "stdout",
          "text": [
            "Epoch 1/30\n",
            "1875/1875 [==============================] - 23s 10ms/step - loss: 0.5091 - accuracy: 0.8244 - lr: 0.0010\n",
            "Epoch 2/30\n",
            "1875/1875 [==============================] - 18s 10ms/step - loss: 0.3138 - accuracy: 0.8893 - lr: 9.0000e-04\n",
            "Epoch 3/30\n",
            "1875/1875 [==============================] - 18s 9ms/step - loss: 0.2642 - accuracy: 0.9060 - lr: 8.1000e-04\n",
            "Epoch 4/30\n",
            "1875/1875 [==============================] - 18s 10ms/step - loss: 0.2361 - accuracy: 0.9171 - lr: 7.2900e-04\n",
            "Epoch 5/30\n",
            "1875/1875 [==============================] - 18s 10ms/step - loss: 0.2075 - accuracy: 0.9261 - lr: 6.5610e-04\n",
            "Epoch 6/30\n",
            "1875/1875 [==============================] - 18s 9ms/step - loss: 0.1844 - accuracy: 0.9333 - lr: 5.9049e-04\n",
            "Epoch 7/30\n",
            "1875/1875 [==============================] - 18s 10ms/step - loss: 0.1665 - accuracy: 0.9418 - lr: 5.3144e-04\n",
            "Epoch 8/30\n",
            "1875/1875 [==============================] - 18s 9ms/step - loss: 0.1454 - accuracy: 0.9481 - lr: 4.7830e-04\n",
            "Epoch 9/30\n",
            "1875/1875 [==============================] - 18s 10ms/step - loss: 0.1292 - accuracy: 0.9538 - lr: 4.3047e-04\n",
            "Epoch 10/30\n",
            "1875/1875 [==============================] - 18s 9ms/step - loss: 0.1157 - accuracy: 0.9592 - lr: 3.8742e-04\n",
            "Epoch 11/30\n",
            "1875/1875 [==============================] - 18s 10ms/step - loss: 0.1043 - accuracy: 0.9638 - lr: 3.4868e-04\n",
            "Epoch 12/30\n",
            "1875/1875 [==============================] - 18s 9ms/step - loss: 0.1000 - accuracy: 0.9646 - lr: 3.1381e-04\n",
            "Epoch 13/30\n",
            "1875/1875 [==============================] - 18s 9ms/step - loss: 0.0867 - accuracy: 0.9693 - lr: 2.8243e-04\n",
            "Epoch 14/30\n",
            "1875/1875 [==============================] - 18s 10ms/step - loss: 0.0809 - accuracy: 0.9718 - lr: 2.5419e-04\n",
            "Epoch 15/30\n",
            "1875/1875 [==============================] - 18s 9ms/step - loss: 0.0725 - accuracy: 0.9746 - lr: 2.2877e-04\n",
            "Epoch 16/30\n",
            "1875/1875 [==============================] - 18s 10ms/step - loss: 0.0651 - accuracy: 0.9773 - lr: 2.0589e-04\n",
            "Epoch 17/30\n",
            "1875/1875 [==============================] - 18s 9ms/step - loss: 0.0586 - accuracy: 0.9792 - lr: 1.8530e-04\n",
            "Epoch 18/30\n",
            "1875/1875 [==============================] - 18s 10ms/step - loss: 0.0542 - accuracy: 0.9809 - lr: 1.6677e-04\n",
            "Epoch 19/30\n",
            "1875/1875 [==============================] - 18s 9ms/step - loss: 0.0523 - accuracy: 0.9822 - lr: 1.5009e-04\n",
            "Epoch 20/30\n",
            "1875/1875 [==============================] - 18s 10ms/step - loss: 0.0475 - accuracy: 0.9834 - lr: 1.3509e-04\n",
            "Epoch 21/30\n",
            "1875/1875 [==============================] - 18s 9ms/step - loss: 0.0439 - accuracy: 0.9847 - lr: 1.2158e-04\n",
            "Epoch 22/30\n",
            "1875/1875 [==============================] - 18s 10ms/step - loss: 0.0416 - accuracy: 0.9851 - lr: 1.0942e-04\n",
            "Epoch 23/30\n",
            "1875/1875 [==============================] - 18s 9ms/step - loss: 0.0398 - accuracy: 0.9855 - lr: 9.8477e-05\n",
            "Epoch 24/30\n",
            "1875/1875 [==============================] - 18s 9ms/step - loss: 0.0359 - accuracy: 0.9868 - lr: 8.8629e-05\n",
            "Epoch 25/30\n",
            "1875/1875 [==============================] - 18s 10ms/step - loss: 0.0351 - accuracy: 0.9881 - lr: 7.9766e-05\n",
            "Epoch 26/30\n",
            "1875/1875 [==============================] - 18s 9ms/step - loss: 0.0331 - accuracy: 0.9888 - lr: 7.1790e-05\n",
            "Epoch 27/30\n",
            "1875/1875 [==============================] - 18s 10ms/step - loss: 0.0322 - accuracy: 0.9886 - lr: 6.4611e-05\n",
            "Epoch 28/30\n",
            "1875/1875 [==============================] - 18s 9ms/step - loss: 0.0312 - accuracy: 0.9893 - lr: 5.8150e-05\n",
            "Epoch 29/30\n",
            "1875/1875 [==============================] - 18s 10ms/step - loss: 0.0302 - accuracy: 0.9895 - lr: 5.2335e-05\n",
            "Epoch 30/30\n",
            "1875/1875 [==============================] - 18s 9ms/step - loss: 0.0296 - accuracy: 0.9897 - lr: 4.7101e-05\n",
            "313/313 [==============================] - 1s 4ms/step - loss: 0.2502 - accuracy: 0.9432\n",
            "Test accuracy: 0.9431999921798706\n"
          ]
        }
      ]
    }
  ],
  "metadata": {
    "kernelspec": {
      "display_name": ".venv",
      "language": "python",
      "name": "python3"
    },
    "language_info": {
      "codemirror_mode": {
        "name": "ipython",
        "version": 3
      },
      "file_extension": ".py",
      "mimetype": "text/x-python",
      "name": "python",
      "nbconvert_exporter": "python",
      "pygments_lexer": "ipython3",
      "version": "3.10.10"
    },
    "orig_nbformat": 4,
    "colab": {
      "provenance": [],
      "gpuType": "T4"
    },
    "accelerator": "GPU",
    "gpuClass": "standard"
  },
  "nbformat": 4,
  "nbformat_minor": 0
}