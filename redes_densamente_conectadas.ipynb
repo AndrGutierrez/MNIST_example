{
 "cells": [
  {
   "cell_type": "code",
   "execution_count": 141,
   "metadata": {},
   "outputs": [],
   "source": [
    "import tensorflow as tf\n",
    "from tensorflow.keras.datasets import mnist\n",
    "import matplotlib.pyplot as plt\n",
    "(x_train, y_train),(x_test, y_test)=mnist.load_data()\n",
    "x_test_old = x_test\n",
    "x_train_old = x_train\n",
    "\n",
    "plot = lambda tensor: plt.imshow(tensor, cmap=plt.cm.binary)\n"
   ]
  },
  {
   "cell_type": "code",
   "execution_count": 49,
   "metadata": {},
   "outputs": [
    {
     "name": "stdout",
     "output_type": "stream",
     "text": [
      "1\n"
     ]
    }
   ],
   "source": [
    "# label\n",
    "print(y_train[8])"
   ]
  },
  {
   "cell_type": "code",
   "execution_count": 25,
   "metadata": {},
   "outputs": [
    {
     "name": "stdout",
     "output_type": "stream",
     "text": [
      "(60000, 28, 28)\n",
      "3\n",
      "uint8\n"
     ]
    }
   ],
   "source": [
    "print(\"samples, height, width\")\n",
    "print(x_train.shape)\n",
    "print(x_train.ndim)\n",
    "print(x_train.dtype)"
   ]
  },
  {
   "cell_type": "code",
   "execution_count": 81,
   "metadata": {},
   "outputs": [
    {
     "data": {
      "text/plain": [
       "<matplotlib.image.AxesImage at 0x7fbf3c07e0b0>"
      ]
     },
     "execution_count": 81,
     "metadata": {},
     "output_type": "execute_result"
    },
    {
     "data": {
      "image/png": "[encoded data removed]",
      "text/plain": [
       "<Figure size 640x480 with 1 Axes>"
      ]
     },
     "metadata": {},
     "output_type": "display_data"
    }
   ],
   "source": [
    "# selecciona todos elementos(:) dentro de los vectores del 0 al 99 (0:99)\n",
    "sample = x_train[0:99, :]\n",
    "#### también se podría escribir así, uno por cada dimensión\n",
    "# sample = x_train[0:99, 0:28, 0:28]\n",
    "#### todas las muestras, pero solo la esquina inferior derecha\n",
    "right_below= x_train[:, 14:, 14:]\n",
    "#### todas las muestras pero solo el centro\n",
    "center= x_train[:, 7:-7, 7:-7]\n",
    "plot(center[8])"
   ]
  },
  {
   "cell_type": "markdown",
   "metadata": {},
   "source": [
    "## Data normalization"
   ]
  },
  {
   "cell_type": "code",
   "execution_count": 147,
   "metadata": {},
   "outputs": [],
   "source": [
    "# no se suelen usar datos con valores más grandes que los pesos (etiquetas, labels, que este caso van de 0 a 9, así que lo pasamos a números entre 0 y 1)\n",
    "x_train= x_train_old.astype(\"float32\")\n",
    "x_test= x_test_old.astype(\"float32\")\n",
    "\n",
    "x_train /= 255\n",
    "x_test /= 255\n",
    "\n",
    "# las redes neuronales aceptan como entradas tensores de una sola dimensión, \n",
    "# así que cambiamos la forma de (60000, 28, 28) a (60000, 784, 784) ### 784 = 28x28\n",
    "x_train= x_train.reshape(60000, 784)\n",
    "x_test= x_test.reshape(10000, 784)"
   ]
  },
  {
   "cell_type": "code",
   "execution_count": 150,
   "metadata": {},
   "outputs": [
    {
     "name": "stdout",
     "output_type": "stream",
     "text": [
      "7\n",
      "5\n",
      "(60000,)\n",
      "(10000,)\n",
      "##########\n",
      "convert integer into binary class matrix\n",
      "##########\n",
      "[0. 0. 0. 0. 0. 0. 0. 1. 0. 0.]\n",
      "[0. 0. 0. 0. 0. 1. 0. 0. 0. 0.]\n",
      "(60000, 10)\n",
      "(10000, 10)\n"
     ]
    }
   ],
   "source": [
    "# label for the first item \n",
    "print(y_test[0])\n",
    "print(y_train[0])\n",
    "print(y_train.shape)\n",
    "print(y_test.shape)\n",
    "\n",
    "# one hot decoding\n",
    "from tensorflow.keras.utils import to_categorical\n",
    "y_train=to_categorical(y_train, num_classes=10)\n",
    "y_test=to_categorical(y_test, num_classes=10)\n",
    "\n",
    "print(\"#\"*10)\n",
    "print(\"convert integer into binary class matrix\")\n",
    "print(\"#\"*10)\n",
    "\n",
    "print(y_test[0])\n",
    "print(y_train[0])\n",
    "print(y_train.shape)\n",
    "print(y_test.shape)"
   ]
  },
  {
   "cell_type": "markdown",
   "metadata": {},
   "source": [
    "## Neuronal network creation"
   ]
  },
  {
   "cell_type": "code",
   "execution_count": 96,
   "metadata": {},
   "outputs": [
    {
     "name": "stdout",
     "output_type": "stream",
     "text": [
      "Model: \"sequential_2\"\n",
      "_________________________________________________________________\n",
      " Layer (type)                Output Shape              Param #   \n",
      "=================================================================\n",
      " sigmoid (Dense)             (None, 10)                7850      \n",
      "                                                                 \n",
      " softmax (Dense)             (None, 10)                110       \n",
      "                                                                 \n",
      "=================================================================\n",
      "Total params: 7,960\n",
      "Trainable params: 7,960\n",
      "Non-trainable params: 0\n",
      "_________________________________________________________________\n"
     ]
    }
   ],
   "source": [
    "from tensorflow.keras.layers import Dense\n",
    "from tensorflow.keras import Sequential\n",
    "#capas densamente conectadas\n",
    "model = Sequential()\n",
    "#activation layer with sigmoid function\n",
    "# 10 valores de probabilidad (neuronas, probabilidad de que la entrada sea 0,1,2...) función de activación y la forma del input\n",
    "model.add(Dense(10, activation=\"sigmoid\", input_shape=(784,), name=\"sigmoid\"))\n",
    "#activation layer with softmax function\n",
    "# 10 neuronas, una por cada dígito posibe\n",
    "model.add(Dense(10, activation=\"softmax\", name=\"softmax\"))\n",
    "\n",
    "\n",
    "model.summary()\n",
    "# in softmax layer, there is 110 params because: \n",
    "# it requires 10 x 10 neurons (10 of the softmax layer itself and 10 of the sigmoid layer) + 10 bias params"
   ]
  },
  {
   "cell_type": "markdown",
   "metadata": {},
   "source": [
    "## Model training"
   ]
  },
  {
   "cell_type": "code",
   "execution_count": 97,
   "metadata": {},
   "outputs": [],
   "source": [
    "# calculate precision (images that are labeled correctly)\n",
    "# loss function, optimizer is stocastic gradient descent (sdg) and we just measure accuracy\n",
    "model.compile(loss=\"categorical_crossentropy\", optimizer=\"sgd\", metrics=[\"accuracy\"])"
   ]
  },
  {
   "cell_type": "code",
   "execution_count": 151,
   "metadata": {},
   "outputs": [
    {
     "name": "stdout",
     "output_type": "stream",
     "text": [
      "(60000, 784)\n",
      "(60000, 10)\n",
      "Epoch 1/5\n",
      "1875/1875 [==============================] - 1s 487us/step - loss: 0.3376 - accuracy: 0.9097\n",
      "Epoch 2/5\n",
      "1875/1875 [==============================] - 1s 512us/step - loss: 0.3329 - accuracy: 0.9105\n",
      "Epoch 3/5\n",
      "1875/1875 [==============================] - 1s 502us/step - loss: 0.3284 - accuracy: 0.9117\n",
      "Epoch 4/5\n",
      "1875/1875 [==============================] - 1s 497us/step - loss: 0.3243 - accuracy: 0.9126\n",
      "Epoch 5/5\n",
      "1875/1875 [==============================] - 1s 501us/step - loss: 0.3205 - accuracy: 0.9136\n"
     ]
    },
    {
     "data": {
      "text/plain": [
       "<keras.callbacks.History at 0x7fbf004c2b00>"
      ]
     },
     "execution_count": 151,
     "metadata": {},
     "output_type": "execute_result"
    }
   ],
   "source": [
    "print(x_train.shape)\n",
    "print(y_train.shape) \n",
    "model.fit(x_train, y_train, epochs=5)\n",
    "# epochs = number of imes we will use these daa in learning process\n",
    "# the loss value should be smaller on each iteration\n",
    "# this uses the training model we provided with \"model.compile\"\n",
    "# \"why is it 1875 instead of 60000\" here is why: https://stackoverflow.com/questions/61122276/keras-not-training-on-entire-dataset\""
   ]
  },
  {
   "cell_type": "markdown",
   "metadata": {},
   "source": [
    "## Model evaluation"
   ]
  },
  {
   "cell_type": "code",
   "execution_count": 152,
   "metadata": {},
   "outputs": [
    {
     "name": "stdout",
     "output_type": "stream",
     "text": [
      "313/313 [==============================] - 0s 420us/step - loss: 0.3176 - accuracy: 0.9138\n"
     ]
    }
   ],
   "source": [
    "test_loss, test_acc = model.evaluate(x_test, y_test)\n",
    "\n",
    "# accuracy vs recall metrics, research\n",
    "# we can use scikit learn to calculate these metrics"
   ]
  },
  {
   "cell_type": "markdown",
   "metadata": {},
   "source": [
    "## Prediction generation"
   ]
  },
  {
   "cell_type": "code",
   "execution_count": 106,
   "metadata": {},
   "outputs": [
    {
     "data": {
      "text/plain": [
       "<matplotlib.image.AxesImage at 0x7fbf00768d30>"
      ]
     },
     "execution_count": 106,
     "metadata": {},
     "output_type": "execute_result"
    },
    {
     "data": {
      "image/png": "[encoded data removed]",
      "text/plain": [
       "<Figure size 640x480 with 1 Axes>"
      ]
     },
     "metadata": {},
     "output_type": "display_data"
    }
   ],
   "source": [
    "plot(x_test_old[11])"
   ]
  },
  {
   "cell_type": "code",
   "execution_count": 126,
   "metadata": {},
   "outputs": [
    {
     "name": "stdout",
     "output_type": "stream",
     "text": [
      "313/313 [==============================] - 0s 360us/step\n"
     ]
    }
   ],
   "source": [
    "predictions= model.predict(x_test)"
   ]
  },
  {
   "cell_type": "code",
   "execution_count": 155,
   "metadata": {},
   "outputs": [
    {
     "name": "stdout",
     "output_type": "stream",
     "text": [
      "[1.5177929e-02 2.8969236e-03 1.4693826e-01 2.2285287e-03 7.7437209e-03\n",
      " 1.6618408e-02 7.7612841e-01 2.9620054e-04 3.0843010e-02 1.1286356e-03]\n"
     ]
    }
   ],
   "source": [
    "import numpy as np\n",
    "# what number is it based on the highest probability, and the highest probability is on index 6 \n",
    "np.argmax(predictions[11])\n",
    "print(predictions[11])\n"
   ]
  }
 ],
 "metadata": {
  "kernelspec": {
   "display_name": "env",
   "language": "python",
   "name": "python3"
  },
  "language_info": {
   "codemirror_mode": {
    "name": "ipython",
    "version": 3
   },
   "file_extension": ".py",
   "mimetype": "text/x-python",
   "name": "python",
   "nbconvert_exporter": "python",
   "pygments_lexer": "ipython3",
   "version": "3.10.8"
  },
  "orig_nbformat": 4,
  "vscode": {
   "interpreter": {
    "hash": "9f8b430d081e0cd58195f304fcd2af6aba4364ecacddb8219d15c2463873222e"
   }
  }
 },
 "nbformat": 4,
 "nbformat_minor": 2
}
